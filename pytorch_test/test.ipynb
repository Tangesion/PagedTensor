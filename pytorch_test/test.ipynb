{
 "cells": [
  {
   "cell_type": "code",
   "execution_count": 2,
   "metadata": {},
   "outputs": [
    {
     "name": "stdout",
     "output_type": "stream",
     "text": [
      "torch.Size([10, 8])\n",
      "torch.Size([10, 8])\n"
     ]
    },
    {
     "data": {
      "text/plain": [
       "tensor([[ 1.0000+0.0000e+00j,  1.0000+0.0000e+00j,  1.0000+0.0000e+00j,\n",
       "          1.0000+0.0000e+00j,  1.0000+0.0000e+00j,  1.0000+0.0000e+00j,\n",
       "          1.0000+0.0000e+00j,  1.0000+0.0000e+00j],\n",
       "        [ 0.5403+8.4147e-01j,  0.9504+3.1098e-01j,  0.9950+9.9833e-02j,\n",
       "          0.9995+3.1618e-02j,  0.9999+9.9998e-03j,  1.0000+3.1623e-03j,\n",
       "          1.0000+1.0000e-03j,  1.0000+3.1623e-04j],\n",
       "        [-0.4161+9.0930e-01j,  0.8066+5.9113e-01j,  0.9801+1.9867e-01j,\n",
       "          0.9980+6.3203e-02j,  0.9998+1.9999e-02j,  1.0000+6.3245e-03j,\n",
       "          1.0000+2.0000e-03j,  1.0000+6.3246e-04j],\n",
       "        [-0.9900+1.4112e-01j,  0.5828+8.1265e-01j,  0.9553+2.9552e-01j,\n",
       "          0.9955+9.4726e-02j,  0.9995+2.9995e-02j,  1.0000+9.4867e-03j,\n",
       "          1.0000+3.0000e-03j,  1.0000+9.4868e-04j],\n",
       "        [-0.6536-7.5680e-01j,  0.3011+9.5358e-01j,  0.9211+3.8942e-01j,\n",
       "          0.9920+1.2615e-01j,  0.9992+3.9989e-02j,  0.9999+1.2649e-02j,\n",
       "          1.0000+4.0000e-03j,  1.0000+1.2649e-03j],\n",
       "        [ 0.2837-9.5892e-01j, -0.0103+9.9995e-01j,  0.8776+4.7943e-01j,\n",
       "          0.9875+1.5746e-01j,  0.9988+4.9979e-02j,  0.9999+1.5811e-02j,\n",
       "          1.0000+5.0000e-03j,  1.0000+1.5811e-03j],\n",
       "        [ 0.9602-2.7942e-01j, -0.3208+9.4715e-01j,  0.8253+5.6464e-01j,\n",
       "          0.9821+1.8860e-01j,  0.9982+5.9964e-02j,  0.9998+1.8973e-02j,\n",
       "          1.0000+6.0000e-03j,  1.0000+1.8974e-03j],\n",
       "        [ 0.7539+6.5699e-01j, -0.5994+8.0042e-01j,  0.7648+6.4422e-01j,\n",
       "          0.9756+2.1956e-01j,  0.9976+6.9943e-02j,  0.9998+2.2134e-02j,\n",
       "          1.0000+6.9999e-03j,  1.0000+2.2136e-03j],\n",
       "        [-0.1455+9.8936e-01j, -0.8186+5.7432e-01j,  0.6967+7.1736e-01j,\n",
       "          0.9682+2.5029e-01j,  0.9968+7.9915e-02j,  0.9997+2.5296e-02j,\n",
       "          1.0000+7.9999e-03j,  1.0000+2.5298e-03j],\n",
       "        [-0.9111+4.1212e-01j, -0.9566+2.9126e-01j,  0.6216+7.8333e-01j,\n",
       "          0.9598+2.8078e-01j,  0.9960+8.9879e-02j,  0.9996+2.8457e-02j,\n",
       "          1.0000+8.9999e-03j,  1.0000+2.8460e-03j]])"
      ]
     },
     "execution_count": 2,
     "metadata": {},
     "output_type": "execute_result"
    }
   ],
   "source": [
    "import torch\n",
    "\n",
    "def precompute_freqs_cis(dim: int, end: int, theta: float = 10000.0):\n",
    "    freqs = 1.0 / (theta ** (torch.arange(0, dim, 2)[: (dim // 2)].float() / dim))\n",
    "    t = torch.arange(end, device=freqs.device, dtype=torch.float32)\n",
    "    freqs = torch.outer(t, freqs)\n",
    "    print(freqs.shape)\n",
    "    freqs_cis = torch.polar(torch.ones_like(freqs), freqs)  # complex64\n",
    "    print(freqs_cis.shape)\n",
    "    return freqs_cis\n",
    "\n",
    "precompute_freqs_cis(16, 10)"
   ]
  },
  {
   "cell_type": "code",
   "execution_count": 3,
   "metadata": {},
   "outputs": [
    {
     "data": {
      "text/plain": [
       "tensor([[ 0.1812, -1.3740,  0.1895],\n",
       "        [-0.7515, -0.5161,  0.5698]], dtype=torch.float16)"
      ]
     },
     "execution_count": 3,
     "metadata": {},
     "output_type": "execute_result"
    }
   ],
   "source": [
    "import torch\n",
    "a = torch.randn(2, 3).to(torch.float16)\n",
    "s = a.sum()\n",
    "a\n"
   ]
  },
  {
   "cell_type": "code",
   "execution_count": 3,
   "metadata": {},
   "outputs": [
    {
     "name": "stderr",
     "output_type": "stream",
     "text": [
      "/tmp/ipykernel_22546/175741966.py:2: FutureWarning: You are using `torch.load` with `weights_only=False` (the current default value), which uses the default pickle module implicitly. It is possible to construct malicious pickle data which will execute arbitrary code during unpickling (See https://github.com/pytorch/pytorch/blob/main/SECURITY.md#untrusted-models for more details). In a future release, the default value for `weights_only` will be flipped to `True`. This limits the functions that could be executed during unpickling. Arbitrary objects will no longer be allowed to be loaded via this mode unless they are explicitly allowlisted by the user via `torch.serialization.add_safe_globals`. We recommend you start setting `weights_only=True` for any use case where you don't have full control of the loaded file. Please open an issue on GitHub for any issues related to this experimental feature.\n",
      "  model_weight = torch.load(\"/home/gexingt/tgx/models/Llama-2-7b-hf/pytorch_model-00001-of-00002.bin\")\n"
     ]
    },
    {
     "data": {
      "text/plain": [
       "torch.Size([32000, 4096])"
      ]
     },
     "execution_count": 3,
     "metadata": {},
     "output_type": "execute_result"
    }
   ],
   "source": [
    "import torch\n",
    "model_weight = torch.load(\"/home/gexingt/tgx/models/Llama-2-7b-hf/pytorch_model-00001-of-00002.bin\")\n",
    "model_weight['model.embed_tokens.weight'].shape\n"
   ]
  },
  {
   "cell_type": "code",
   "execution_count": null,
   "metadata": {},
   "outputs": [],
   "source": [
    "torch.transpose"
   ]
  },
  {
   "cell_type": "code",
   "execution_count": 3,
   "metadata": {},
   "outputs": [
    {
     "data": {
      "text/plain": [
       "torch.Size([64])"
      ]
     },
     "execution_count": 3,
     "metadata": {},
     "output_type": "execute_result"
    }
   ],
   "source": [
    "model_weight['model.layers.0.self_attn.rotary_emb.inv_freq'].shape"
   ]
  },
  {
   "cell_type": "code",
   "execution_count": 6,
   "metadata": {},
   "outputs": [
    {
     "data": {
      "text/plain": [
       "torch.float32"
      ]
     },
     "execution_count": 6,
     "metadata": {},
     "output_type": "execute_result"
    }
   ],
   "source": [
    "model_weight['model.layers.1.self_attn.rotary_emb.inv_freq'].dtype"
   ]
  },
  {
   "cell_type": "code",
   "execution_count": 5,
   "metadata": {},
   "outputs": [
    {
     "name": "stdout",
     "output_type": "stream",
     "text": [
      "1.0\n",
      "0.8659643233600653\n",
      "0.7498942093324559\n",
      "0.6493816315762113\n",
      "0.5623413251903491\n",
      "0.48696752516586306\n",
      "0.4216965034285823\n",
      "0.36517412725483767\n",
      "0.31622776601683794\n",
      "0.27384196342643613\n",
      "0.23713737056616555\n",
      "0.2053525026457146\n",
      "0.17782794100389226\n",
      "0.1539926526059492\n",
      "0.1333521432163324\n",
      "0.1154781984689458\n",
      "0.1\n",
      "0.08659643233600654\n",
      "0.07498942093324558\n",
      "0.06493816315762113\n",
      "0.056234132519034905\n",
      "0.04869675251658631\n",
      "0.042169650342858224\n",
      "0.03651741272548377\n",
      "0.03162277660168379\n",
      "0.02738419634264361\n",
      "0.02371373705661655\n",
      "0.020535250264571463\n",
      "0.01778279410038923\n",
      "0.01539926526059492\n",
      "0.01333521432163324\n",
      "0.011547819846894583\n",
      "0.01\n",
      "0.008659643233600653\n",
      "0.007498942093324559\n",
      "0.006493816315762114\n",
      "0.005623413251903491\n",
      "0.004869675251658632\n",
      "0.004216965034285823\n",
      "0.003651741272548377\n",
      "0.003162277660168379\n",
      "0.0027384196342643613\n",
      "0.002371373705661655\n",
      "0.002053525026457146\n",
      "0.001778279410038923\n",
      "0.0015399265260594918\n",
      "0.001333521432163324\n",
      "0.0011547819846894581\n",
      "0.001\n",
      "0.0008659643233600654\n",
      "0.0007498942093324557\n",
      "0.0006493816315762112\n",
      "0.0005623413251903491\n",
      "0.00048696752516586315\n",
      "0.0004216965034285823\n",
      "0.0003651741272548377\n",
      "0.00031622776601683794\n",
      "0.00027384196342643616\n",
      "0.00023713737056616554\n",
      "0.0002053525026457146\n",
      "0.00017782794100389227\n",
      "0.0001539926526059492\n",
      "0.0001333521432163324\n",
      "0.00011547819846894582\n"
     ]
    }
   ],
   "source": [
    "for i in range(0, 64):\n",
    "    freq = 1.0 / (10000 ** (i / 64))\n",
    "    print(freq)\n"
   ]
  },
  {
   "cell_type": "code",
   "execution_count": 4,
   "metadata": {},
   "outputs": [
    {
     "name": "stderr",
     "output_type": "stream",
     "text": [
      "/tmp/ipykernel_27170/1918952304.py:2: FutureWarning: You are using `torch.load` with `weights_only=False` (the current default value), which uses the default pickle module implicitly. It is possible to construct malicious pickle data which will execute arbitrary code during unpickling (See https://github.com/pytorch/pytorch/blob/main/SECURITY.md#untrusted-models for more details). In a future release, the default value for `weights_only` will be flipped to `True`. This limits the functions that could be executed during unpickling. Arbitrary objects will no longer be allowed to be loaded via this mode unless they are explicitly allowlisted by the user via `torch.serialization.add_safe_globals`. We recommend you start setting `weights_only=True` for any use case where you don't have full control of the loaded file. Please open an issue on GitHub for any issues related to this experimental feature.\n",
      "  model_weight = torch.load(\"/home/gexingt/tgx/models/Llama-2-7b-hf/pytorch_model-00001-of-00002.bin\")\n"
     ]
    },
    {
     "name": "stdout",
     "output_type": "stream",
     "text": [
      "torch.Size([1, 1024, 128]) torch.Size([1, 1024, 128])\n",
      "torch.Size([1, 1024, 64]) torch.Size([1, 1024, 64])\n",
      "torch.Size([1, 32, 1024, 128])\n"
     ]
    }
   ],
   "source": [
    "import torch\n",
    "model_weight = torch.load(\"/home/gexingt/tgx/models/Llama-2-7b-hf/pytorch_model-00001-of-00002.bin\")\n",
    "inv_freq = model_weight['model.layers.0.self_attn.rotary_emb.inv_freq']\n",
    "\n",
    "def get_cos_sin(x, position_ids, inv_freq):\n",
    "    inv_freq_expanded = inv_freq[None, :, None].float().expand(position_ids.shape[0], -1, 1)\n",
    "    position_ids_expanded = position_ids[:, None, :].float()\n",
    "    freqs = (inv_freq_expanded.float() @ position_ids_expanded.float()).transpose(1, 2)\n",
    "    emb = torch.cat((freqs, freqs), dim=-1)\n",
    "    cos = emb.cos()\n",
    "    sin = emb.sin()\n",
    "    return cos, sin\n",
    "\n",
    "def get_cos_sin_half(x, position_ids, inv_freq):\n",
    "    inv_freq_expanded = inv_freq[None, :, None].float().expand(position_ids.shape[0], -1, 1)\n",
    "    position_ids_expanded = position_ids[:, None, :].float()\n",
    "    freqs = (inv_freq_expanded.float() @ position_ids_expanded.float()).transpose(1, 2)\n",
    "    emb = freqs\n",
    "    cos = emb.cos()\n",
    "    sin = emb.sin()\n",
    "    return cos, sin\n",
    "\n",
    "def rotate_half(x):\n",
    "    x1 = x[..., : x.shape[-1] // 2]\n",
    "    x2 = x[..., x.shape[-1] // 2 :]\n",
    "    return torch.cat((-x2, x1), dim=-1)\n",
    "\n",
    "def apply_rotary_pos_emb(q, cos, sin, position_ids=None, unsqueeze_dim=1):\n",
    "    \"\"\"Applies Rotary Position Embedding to the query and key tensors.\n",
    "\n",
    "    Args:\n",
    "        q (`torch.Tensor`): The query tensor.\n",
    "        k (`torch.Tensor`): The key tensor.\n",
    "        cos (`torch.Tensor`): The cosine part of the rotary embedding.\n",
    "        sin (`torch.Tensor`): The sine part of the rotary embedding.\n",
    "        position_ids (`torch.Tensor`, *optional*):\n",
    "            Deprecated and unused.\n",
    "        unsqueeze_dim (`int`, *optional*, defaults to 1):\n",
    "            The 'unsqueeze_dim' argument specifies the dimension along which to unsqueeze cos[position_ids] and\n",
    "            sin[position_ids] so that they can be properly broadcasted to the dimensions of q and k. For example, note\n",
    "            that cos[position_ids] and sin[position_ids] have the shape [batch_size, seq_len, head_dim]. Then, if q and\n",
    "            k have the shape [batch_size, heads, seq_len, head_dim], then setting unsqueeze_dim=1 makes\n",
    "            cos[position_ids] and sin[position_ids] broadcastable to the shapes of q and k. Similarly, if q and k have\n",
    "            the shape [batch_size, seq_len, heads, head_dim], then set unsqueeze_dim=2.\n",
    "    Returns:\n",
    "        `tuple(torch.Tensor)` comprising of the query and key tensors rotated using the Rotary Position Embedding.\n",
    "    \"\"\"\n",
    "    cos = cos.unsqueeze(unsqueeze_dim)\n",
    "    sin = sin.unsqueeze(unsqueeze_dim)\n",
    "    q_embed = (q * cos) + (rotate_half(q) * sin)\n",
    "    return q_embed\n",
    "\n",
    "q = torch.randn(1, 32, 1024, 128)\n",
    "position = torch.arange(1024).unsqueeze(0)\n",
    "cos, sin = get_cos_sin(q, position, inv_freq)\n",
    "print(cos.shape, sin.shape)\n",
    "cos_half, sin_half = get_cos_sin_half(q, position, inv_freq)\n",
    "print(cos_half.shape, sin_half.shape)\n",
    "q_embed = apply_rotary_pos_emb(q, cos, sin, position, unsqueeze_dim=1)\n",
    "print(q_embed.shape)\n",
    "\n",
    "\n",
    "\n"
   ]
  },
  {
   "cell_type": "code",
   "execution_count": 2,
   "metadata": {},
   "outputs": [],
   "source": [
    "import torch\n",
    "batch_size = 1\n",
    "seq_len = 16\n",
    "dim = 32\n",
    "intern_dim = 64\n",
    "x = torch.randn(batch_size, seq_len, dim, dtype=torch.float32)\n",
    "gate_proj = torch.randn(intern_dim, dim, dtype=torch.float32)\n",
    "up_proj = torch.randn(intern_dim, dim, dtype=torch.float32)\n",
    "down_proj = torch.randn(dim, intern_dim, dtype=torch.float32)\n",
    "\n",
    "def pytorch_ffn(x, gate_proj, up_proj, down_proj):\n",
    "    #silu ffn\n",
    "    up_proj_out = x @ up_proj.t()\n",
    "    gate_proj_out = x @ gate_proj.t()\n",
    "    gate_proj_out = gate_proj_out * torch.sigmoid(gate_proj_out)\n",
    "    gate_proj_out = up_proj_out * gate_proj_out\n",
    "    down_proj_out = gate_proj_out @ down_proj.t()\n",
    "    return down_proj_out\n",
    "\n",
    "result_py = pytorch_ffn(x, gate_proj, up_proj, down_proj)"
   ]
  },
  {
   "cell_type": "code",
   "execution_count": 1,
   "metadata": {},
   "outputs": [
    {
     "data": {
      "text/plain": [
       "0.5625"
      ]
     },
     "execution_count": 1,
     "metadata": {},
     "output_type": "execute_result"
    }
   ],
   "source": [
    "length = 4096\n",
    "bsz = 1\n",
    "dims = 4096\n",
    "\n",
    "tensor_num = 9\n",
    "\n",
    "\n",
    "#9 * 4096 * 4096 * 4 / 1024 / 1024 / 1024"
   ]
  },
  {
   "cell_type": "code",
   "execution_count": 4,
   "metadata": {},
   "outputs": [
    {
     "data": {
      "text/plain": [
       "368.0"
      ]
     },
     "execution_count": 4,
     "metadata": {},
     "output_type": "execute_result"
    }
   ],
   "source": [
    "# prefill\n",
    "length = 1024\n",
    "bsz = 1\n",
    "dims = 4096\n",
    "tensor_num = 7\n",
    "kvsize = 4096 * 2 * 4 * 4096\n",
    "attnsize = length * length * 32 * bsz * 4\n",
    "all_size = (tensor_num * length * dims * 4 + kvsize + attnsize) / 1024/ 1024\n",
    "all_size"
   ]
  },
  {
   "cell_type": "code",
   "execution_count": 6,
   "metadata": {},
   "outputs": [
    {
     "data": {
      "text/plain": [
       "256.578125"
      ]
     },
     "execution_count": 6,
     "metadata": {},
     "output_type": "execute_result"
    }
   ],
   "source": [
    "#decode\n",
    "attnsize = 4096 * 32 * bsz * 4\n",
    "all_size = (2 * 4096 * dims * 4 + kvsize + 5 * dims * bsz * 4 + 4096 * 32 * 4) / 1024 / 1024\n",
    "all_size"
   ]
  }
 ],
 "metadata": {
  "kernelspec": {
   "display_name": "cuda",
   "language": "python",
   "name": "python3"
  },
  "language_info": {
   "codemirror_mode": {
    "name": "ipython",
    "version": 3
   },
   "file_extension": ".py",
   "mimetype": "text/x-python",
   "name": "python",
   "nbconvert_exporter": "python",
   "pygments_lexer": "ipython3",
   "version": "3.10.14"
  }
 },
 "nbformat": 4,
 "nbformat_minor": 2
}
